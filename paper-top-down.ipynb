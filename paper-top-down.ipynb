{
 "cells": [
  {
   "cell_type": "markdown",
   "id": "fe99c48e-813b-4b51-b13b-1ab999c52069",
   "metadata": {},
   "source": [
    "# Top-down modulation of speech entrainment 🤗\n",
    "\n",
    "This study provides new insights into the role of low-frequency oscillations in top-down control during continuous speech processing.  We show that causal top-down signals from frontal and motor areas largely directed at left auditory cortex. Furthermore, speech-auditory cortex coupling is enhanced as a function of stronger top-down signals.\n",
    "\n",
    "**keywords**\n",
    "#auditory #natural #speech #entrainment #top-down #motor #information theory #transfer entropy (TE)\n",
    "\n",
    "[Park H, Ince RAA, Schyns PG, Thut G, Gross J (2015) Current Biology. Frontal Top-Down Signals Increase Coupling of Auditory Low-Frequency Oscillations to Continuous Speech in Human Listeners](https://doi.org/10.1016/j.cub.2015.04.049)\n"
   ]
  },
  {
   "cell_type": "markdown",
   "id": "a9874efc-f0dc-4afe-83cd-ad7f272c7570",
   "metadata": {},
   "source": [
    "<img src=\"https://ars.els-cdn.com/content/image/1-s2.0-S096098221500500X-gr1_lrg.jpg\" width=\"600\">"
   ]
  },
  {
   "cell_type": "code",
   "execution_count": null,
   "id": "2a08dcc6-c667-4870-91f8-e69883ed118a",
   "metadata": {},
   "outputs": [],
   "source": []
  }
 ],
 "metadata": {
  "kernelspec": {
   "display_name": "Python 3 (ipykernel)",
   "language": "python",
   "name": "python3"
  },
  "language_info": {
   "codemirror_mode": {
    "name": "ipython",
    "version": 3
   },
   "file_extension": ".py",
   "mimetype": "text/x-python",
   "name": "python",
   "nbconvert_exporter": "python",
   "pygments_lexer": "ipython3",
   "version": "3.10.6"
  }
 },
 "nbformat": 4,
 "nbformat_minor": 5
}
